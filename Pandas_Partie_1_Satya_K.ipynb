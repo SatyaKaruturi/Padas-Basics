{
  "nbformat": 4,
  "nbformat_minor": 0,
  "metadata": {
    "colab": {
      "name": "Pandas - Partie 1_Satya.K.ipynb",
      "provenance": [],
      "collapsed_sections": []
    },
    "kernelspec": {
      "name": "python3",
      "display_name": "Python 3"
    }
  },
  "cells": [
    {
      "cell_type": "markdown",
      "metadata": {
        "id": "iGmmrwi0cC08",
        "colab_type": "text"
      },
      "source": [
        "# Mission 1\n",
        "\n",
        "![](https://i.imgur.com/Ax3pp2A.png)\n",
        "\n",
        "\n",
        "Crée un dataframe \"fruit\" qui reproduit l'image ci-dessus à l'aide en utilisant une liste"
      ]
    },
    {
      "cell_type": "code",
      "metadata": {
        "id": "qaxzkL8aaM3O",
        "colab_type": "code",
        "outputId": "9cacce6d-9ba5-4560-abd0-f791c49fb3d2",
        "colab": {
          "base_uri": "https://localhost:8080/",
          "height": 77
        }
      },
      "source": [
        "import pandas as pd\n",
        "\n",
        "data1 = {'Apples': [30], 'Bananas': [21]}\n",
        "\n",
        "fruit = pd.DataFrame(data = data1)\n",
        "\n",
        "fruit"
      ],
      "execution_count": 0,
      "outputs": [
        {
          "output_type": "execute_result",
          "data": {
            "text/html": [
              "<div>\n",
              "<style scoped>\n",
              "    .dataframe tbody tr th:only-of-type {\n",
              "        vertical-align: middle;\n",
              "    }\n",
              "\n",
              "    .dataframe tbody tr th {\n",
              "        vertical-align: top;\n",
              "    }\n",
              "\n",
              "    .dataframe thead th {\n",
              "        text-align: right;\n",
              "    }\n",
              "</style>\n",
              "<table border=\"1\" class=\"dataframe\">\n",
              "  <thead>\n",
              "    <tr style=\"text-align: right;\">\n",
              "      <th></th>\n",
              "      <th>Apples</th>\n",
              "      <th>Bananas</th>\n",
              "    </tr>\n",
              "  </thead>\n",
              "  <tbody>\n",
              "    <tr>\n",
              "      <th>0</th>\n",
              "      <td>30</td>\n",
              "      <td>21</td>\n",
              "    </tr>\n",
              "  </tbody>\n",
              "</table>\n",
              "</div>"
            ],
            "text/plain": [
              "   Apples  Bananas\n",
              "0      30       21"
            ]
          },
          "metadata": {
            "tags": []
          },
          "execution_count": 2
        }
      ]
    },
    {
      "cell_type": "markdown",
      "metadata": {
        "id": "SyGDBMkkcQ9W",
        "colab_type": "text"
      },
      "source": [
        "# Mission 2\n",
        "\n",
        "Crée un dataframe \"fruits_vendus\" qui reproduit l'image ci-dessous en utilisant un dictionnaire\n",
        "\n",
        "![](https://i.imgur.com/CHPn7ZF.png)"
      ]
    },
    {
      "cell_type": "code",
      "metadata": {
        "id": "K-giWZ5hcdRv",
        "colab_type": "code",
        "outputId": "ca1db871-56ea-4390-a07a-e661a0299edb",
        "colab": {
          "base_uri": "https://localhost:8080/",
          "height": 106
        }
      },
      "source": [
        "data2 = {'Apples':[35,41], 'Bananas':[21,34]}\n",
        "\n",
        "fruits_vendus = pd.DataFrame(data2, index=['2017 Sales','2018 Sales'])\n",
        "\n",
        "fruits_vendus"
      ],
      "execution_count": 0,
      "outputs": [
        {
          "output_type": "execute_result",
          "data": {
            "text/html": [
              "<div>\n",
              "<style scoped>\n",
              "    .dataframe tbody tr th:only-of-type {\n",
              "        vertical-align: middle;\n",
              "    }\n",
              "\n",
              "    .dataframe tbody tr th {\n",
              "        vertical-align: top;\n",
              "    }\n",
              "\n",
              "    .dataframe thead th {\n",
              "        text-align: right;\n",
              "    }\n",
              "</style>\n",
              "<table border=\"1\" class=\"dataframe\">\n",
              "  <thead>\n",
              "    <tr style=\"text-align: right;\">\n",
              "      <th></th>\n",
              "      <th>Apples</th>\n",
              "      <th>Bananas</th>\n",
              "    </tr>\n",
              "  </thead>\n",
              "  <tbody>\n",
              "    <tr>\n",
              "      <th>2017 Sales</th>\n",
              "      <td>35</td>\n",
              "      <td>21</td>\n",
              "    </tr>\n",
              "    <tr>\n",
              "      <th>2018 Sales</th>\n",
              "      <td>41</td>\n",
              "      <td>34</td>\n",
              "    </tr>\n",
              "  </tbody>\n",
              "</table>\n",
              "</div>"
            ],
            "text/plain": [
              "            Apples  Bananas\n",
              "2017 Sales      35       21\n",
              "2018 Sales      41       34"
            ]
          },
          "metadata": {
            "tags": []
          },
          "execution_count": 4
        }
      ]
    },
    {
      "cell_type": "markdown",
      "metadata": {
        "id": "0efzFFQBcdxi",
        "colab_type": "text"
      },
      "source": [
        "# Mission 3\n",
        "\n",
        "Renomme les noms de colonnes du dataframe de la mission 2 en français"
      ]
    },
    {
      "cell_type": "code",
      "metadata": {
        "id": "ALf-SFvqdMZx",
        "colab_type": "code",
        "outputId": "a7e77574-46ec-4fe3-9d0a-2baad6512f58",
        "colab": {
          "base_uri": "https://localhost:8080/",
          "height": 106
        }
      },
      "source": [
        "fruits_vendus.rename(columns = {'Apples':'Pommes', 'Bananas':'Bananes'})\n",
        "\n",
        "fruits_vendus"
      ],
      "execution_count": 0,
      "outputs": [
        {
          "output_type": "execute_result",
          "data": {
            "text/html": [
              "<div>\n",
              "<style scoped>\n",
              "    .dataframe tbody tr th:only-of-type {\n",
              "        vertical-align: middle;\n",
              "    }\n",
              "\n",
              "    .dataframe tbody tr th {\n",
              "        vertical-align: top;\n",
              "    }\n",
              "\n",
              "    .dataframe thead th {\n",
              "        text-align: right;\n",
              "    }\n",
              "</style>\n",
              "<table border=\"1\" class=\"dataframe\">\n",
              "  <thead>\n",
              "    <tr style=\"text-align: right;\">\n",
              "      <th></th>\n",
              "      <th>Pommes</th>\n",
              "      <th>Bananes</th>\n",
              "    </tr>\n",
              "  </thead>\n",
              "  <tbody>\n",
              "    <tr>\n",
              "      <th>2017 Sales</th>\n",
              "      <td>35</td>\n",
              "      <td>21</td>\n",
              "    </tr>\n",
              "    <tr>\n",
              "      <th>2018 Sales</th>\n",
              "      <td>41</td>\n",
              "      <td>34</td>\n",
              "    </tr>\n",
              "  </tbody>\n",
              "</table>\n",
              "</div>"
            ],
            "text/plain": [
              "            Pommes  Bananes\n",
              "2017 Sales      35       21\n",
              "2018 Sales      41       34"
            ]
          },
          "metadata": {
            "tags": []
          },
          "execution_count": 15
        }
      ]
    },
    {
      "cell_type": "markdown",
      "metadata": {
        "id": "XXBoq2QQeaWV",
        "colab_type": "text"
      },
      "source": [
        "# Mission 4\n",
        "\n",
        "Utilise une boucle pour afficher les valeurs des colonnes du dataframe de la mission 3"
      ]
    },
    {
      "cell_type": "code",
      "metadata": {
        "id": "0Gjh7zAwejGv",
        "colab_type": "code",
        "outputId": "a1555b3e-b920-4b2c-e71e-fb3b7771876e",
        "colab": {
          "base_uri": "https://localhost:8080/",
          "height": 50
        }
      },
      "source": [
        "for index, row in fruits_vendus.iterrows():\n",
        "  print(row['Pommes'], row['Bananes'])"
      ],
      "execution_count": 0,
      "outputs": [
        {
          "output_type": "stream",
          "text": [
            "35 21\n",
            "41 34\n"
          ],
          "name": "stdout"
        }
      ]
    },
    {
      "cell_type": "markdown",
      "metadata": {
        "id": "FJsldb56eCZ0",
        "colab_type": "text"
      },
      "source": [
        "# Mission 5\n",
        "\n",
        "Supprime la ligne 1 du dataframe de la mission 3"
      ]
    },
    {
      "cell_type": "code",
      "metadata": {
        "id": "8NvM_j35gJTZ",
        "colab_type": "code",
        "outputId": "f564306a-a36a-466b-d8d2-764b3ff45f94",
        "colab": {
          "base_uri": "https://localhost:8080/",
          "height": 77
        }
      },
      "source": [
        "fruits_vendus.drop(['2017 Sales'])\n",
        "\n"
      ],
      "execution_count": 0,
      "outputs": [
        {
          "output_type": "execute_result",
          "data": {
            "text/html": [
              "<div>\n",
              "<style scoped>\n",
              "    .dataframe tbody tr th:only-of-type {\n",
              "        vertical-align: middle;\n",
              "    }\n",
              "\n",
              "    .dataframe tbody tr th {\n",
              "        vertical-align: top;\n",
              "    }\n",
              "\n",
              "    .dataframe thead th {\n",
              "        text-align: right;\n",
              "    }\n",
              "</style>\n",
              "<table border=\"1\" class=\"dataframe\">\n",
              "  <thead>\n",
              "    <tr style=\"text-align: right;\">\n",
              "      <th></th>\n",
              "      <th>Pommes</th>\n",
              "      <th>Bananes</th>\n",
              "    </tr>\n",
              "  </thead>\n",
              "  <tbody>\n",
              "    <tr>\n",
              "      <th>2018 Sales</th>\n",
              "      <td>41</td>\n",
              "      <td>34</td>\n",
              "    </tr>\n",
              "  </tbody>\n",
              "</table>\n",
              "</div>"
            ],
            "text/plain": [
              "            Pommes  Bananes\n",
              "2018 Sales      41       34"
            ]
          },
          "metadata": {
            "tags": []
          },
          "execution_count": 24
        }
      ]
    },
    {
      "cell_type": "markdown",
      "metadata": {
        "id": "-XdmcyLqe66p",
        "colab_type": "text"
      },
      "source": [
        "# Mission 6\n",
        "\n",
        "Supprime une colonne du dataframe de la mission 3"
      ]
    },
    {
      "cell_type": "code",
      "metadata": {
        "id": "g9l_0VqghJn9",
        "colab_type": "code",
        "outputId": "6452d929-4020-41ef-a713-e05e32a13b69",
        "colab": {
          "base_uri": "https://localhost:8080/",
          "height": 106
        }
      },
      "source": [
        "fruits_vendus.drop('Pommes', axis=1)"
      ],
      "execution_count": 0,
      "outputs": [
        {
          "output_type": "execute_result",
          "data": {
            "text/html": [
              "<div>\n",
              "<style scoped>\n",
              "    .dataframe tbody tr th:only-of-type {\n",
              "        vertical-align: middle;\n",
              "    }\n",
              "\n",
              "    .dataframe tbody tr th {\n",
              "        vertical-align: top;\n",
              "    }\n",
              "\n",
              "    .dataframe thead th {\n",
              "        text-align: right;\n",
              "    }\n",
              "</style>\n",
              "<table border=\"1\" class=\"dataframe\">\n",
              "  <thead>\n",
              "    <tr style=\"text-align: right;\">\n",
              "      <th></th>\n",
              "      <th>Bananes</th>\n",
              "    </tr>\n",
              "  </thead>\n",
              "  <tbody>\n",
              "    <tr>\n",
              "      <th>2017 Sales</th>\n",
              "      <td>21</td>\n",
              "    </tr>\n",
              "    <tr>\n",
              "      <th>2018 Sales</th>\n",
              "      <td>34</td>\n",
              "    </tr>\n",
              "  </tbody>\n",
              "</table>\n",
              "</div>"
            ],
            "text/plain": [
              "            Bananes\n",
              "2017 Sales       21\n",
              "2018 Sales       34"
            ]
          },
          "metadata": {
            "tags": []
          },
          "execution_count": 32
        }
      ]
    }
  ]
}